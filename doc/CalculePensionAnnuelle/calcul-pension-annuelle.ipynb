{
 "cells": [
  {
   "cell_type": "markdown",
   "metadata": {},
   "source": [
    "# Définition de la pension annuelle\n",
    "\n",
    "Références : \n",
    "* *Projet de loi instituant un système universel de retraite.* - Etude d'impact, 24 janvier 2020\n",
    "* *Évolutions et perspectives des retraites en France.* Rapport annuel du COR – Juin 2019"
   ]
  },
  {
   "cell_type": "markdown",
   "metadata": {},
   "source": [
    "## Calcule les pensions"
   ]
  },
  {
   "cell_type": "markdown",
   "metadata": {},
   "source": [
    "Le montant brut de la pension annuelle moyenne de droit direct $P_a$ d'un retraité est :\n",
    "\n",
    "$$\n",
    "P_a = \\frac{B K P_s}{N_R - G(A_s-A)} \\times \\textrm{PIB},\n",
    "$$\n",
    "\n",
    "où \n",
    "\n",
    "$$\n",
    "K = \\frac{N_R-G(A_s-A)}{N_C+0.5G(A_s-A)}.\n",
    "$$\n",
    "\n",
    "et \n",
    "\n",
    "* $B$ est la part des revenus d'activités bruts dans le PIB \n",
    "* $P$ est le niveau des pensions par rapport aux salaires,\n",
    "* PIB est la valeur du PIB,\n",
    "* $N_R$ est le nombre de retraités.\n",
    "\n",
    "On obtient :\n",
    "\n",
    "$$\n",
    "P_a = \\frac{B P_s}{N_C+0.5G(A_s-A)} \\times \\textrm{PIB},\n",
    "$$\n",
    "\n",
    "Le montant de pension $P_a$ n'inclut ni droit de réversion, ni minimum vieillesse.\n",
    "\n",
    "Sources : \n",
    "* https://fr.wikipedia.org/wiki/Produit_int%C3%A9rieur_brut_de_la_France\n",
    "* https://github.com/mbaudin47/otsupgalilee-eleve/blob/master/1-Intro-OT/Solutions/Exercice-montant-pensions-retraites-Solution.ipynb"
   ]
  }
 ],
 "metadata": {
  "kernelspec": {
   "display_name": "Python 3",
   "language": "python",
   "name": "python3"
  },
  "language_info": {
   "codemirror_mode": {
    "name": "ipython",
    "version": 3
   },
   "file_extension": ".py",
   "mimetype": "text/x-python",
   "name": "python",
   "nbconvert_exporter": "python",
   "pygments_lexer": "ipython3",
   "version": "3.7.4"
  }
 },
 "nbformat": 4,
 "nbformat_minor": 2
}
