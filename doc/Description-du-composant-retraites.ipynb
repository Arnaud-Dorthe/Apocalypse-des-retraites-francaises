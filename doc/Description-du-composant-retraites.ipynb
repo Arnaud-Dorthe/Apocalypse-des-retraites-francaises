{
 "cells": [
  {
   "cell_type": "markdown",
   "metadata": {},
   "source": [
    "# Modèle du simulateur officiel du COR\n",
    "\n",
    "Bruno Scherrer\n",
    "\n",
    "## Leviers, hypothèses et résultats\n",
    "\n",
    "Le modèle du COR repose sur un ensemble de $15$ variables numériques. \n",
    "Ces variables se classent en trois catégories :\n",
    "* les leviers qui sont les variables d'entrée que l'utilisateur peut modifier pour piloter le système de retraites,\n",
    "* les hypothèses de calcul qui sont les paramètres d'entrée que l'utilisateur ne peut *pas* modifier,\n",
    "* les résultats qui sont les variables de sorties du modèle.\n",
    "\n",
    "Les 3 leviers sont les suivants :\n",
    "* $T$: niveau des cotisations sociales ;\n",
    "* $P$: niveau des pensions par rapport aux salaires ;\n",
    "* $A$: âge moyen de départ à la retraite.\n",
    "\n",
    "Les hypothèses de calcul sont constituées des 9 variables suivantes définissant la conjoncture :\n",
    "* $B$: part des revenus d'activités bruts dans le PIB ;\n",
    "* $N_R$: Nombre de retraités de droit direct (tous régimes confondus) ;\n",
    "* $N_C$: Nombre de personnes en emploi (ou nombre de cotisants) ;\n",
    "* $G$: Effectif moyen d'une génération arrivant aux âges de la retraite ;\n",
    "* $dP$: Autres dépenses de retraite rapportées au nombre de retraités de droit direct en \\% du revenu d'activités brut moyen ;\n",
    "* $T_{PR}$: Taux des prélèvements sociaux sur les pensions de retraite ;\n",
    "* $T_{PS}$: Taux des prélèvements sociaux sur les salaires et revenus d'activité ;\n",
    "* $C_{NV}$: Coefficient pour passer du ratio \"pensions/salaire moyen\" au ratio \"niveau de vie/salaire moyen\" ;\n",
    "* $E_V$: Espérance de vie à 60 ans par génération ;\n",
    "\n",
    "Les 3 résultats sont les suivants :\n",
    "* $S$: Situation financière du système de retraite en \\% du PIB ;\n",
    "* $R_{NV}$: Niveau de vie des retraités par rapport à l'ensemble de la population ;\n",
    "* $R_{EV}$: Durée de la vie passée à la retraite.\n",
    "  "
   ]
  },
  {
   "cell_type": "markdown",
   "metadata": {},
   "source": [
    "## Simulation par l'utilisateur\n",
    "\n",
    "Sur le simulateur officiel du COR, toutes les variables ont, *pour chaque scénario et l'ensemble des années*, des valeurs par défaut qui correspondent aux évolutions prévues dans le rapport du COR 2019 en l'absence de modification du système de retraite. \n",
    "\n",
    "Un changement des leviers par l'utilisateur implique des changements dans les résultats. La notation consiste à ajouter l'indice \"s\" lorsque les entrées ou sorties sont modifiées par l'utilisateur. \n",
    "* Lorsque les leviers $T$, $P$ et $A$ du COR sont modifiés par l'utilisateur, les nouvelles valeurs sont notées $T_s$, $P_s$ et $A_s$. \n",
    "* Lorsque les résultats $S$, $R_{NV}$ et $R_{EV}$ du COR sont modifiés par l'utilisateur, les nouvelles valeurs sont notées $S_s$, $R_{NVs}$ et $R_{EVs}$.\n"
   ]
  },
  {
   "cell_type": "markdown",
   "metadata": {},
   "source": [
    "## Modèle\n",
    "\n",
    "Le modèle du COR est donné par les équations suivantes :\n",
    "\n",
    "\\begin{align}\n",
    "S_s &=  B [T_s-K(P_s+dP)] \\\\\n",
    "R_{NVs} & = \\frac{P_s (1-T_{PR})C_{NV}}{1-(T_{PS}+T_s-T)}\\\\\n",
    "R_{EVs} & = \\frac{ 60 + E -A_s }{ 60 + E }\n",
    "\\end{align}\n",
    "\n",
    "où :\n",
    "\n",
    "\\begin{align}\n",
    "K & = \\frac{N_R-G(A_s-A)}{N_C+0,5G(A_s-A)} \\\\\n",
    "E & = E_V \\left\\{~\\mbox{arrondi}(\\mbox{année}+1/2-A_s)~ \\right\\}\n",
    "\\end{align}"
   ]
  },
  {
   "cell_type": "markdown",
   "metadata": {},
   "source": [
    "## Dépenses de retraite\n",
    "\n",
    "Les dépenses de retraite sont données par l'équation :\n",
    "\n",
    "$$\n",
    "D =  B K(P_s+dP).\n",
    "$$\n",
    "\n",
    "On injecte cette équation dans la définition du bilan financier, et on obtient :\n",
    "\n",
    "$$\n",
    "S_s =  B T_s - D.\n",
    "$$"
   ]
  },
  {
   "cell_type": "markdown",
   "metadata": {},
   "source": [
    "## Hypothèses de calcul \n",
    "\n",
    "Les valeurs des *variables fixes* selon le COR sont données dans la figure suivante.\n",
    "\n",
    "<img src=\"conjoncture.png\">\n"
   ]
  },
  {
   "cell_type": "markdown",
   "metadata": {},
   "source": [
    "## Inversions\n",
    "\n",
    "Dans ce qui suit, nous décrivons comment piloter le système en modifiant les leviers pour obtenir un objectif pré-déterminé. Cela R_{EV}ient à inverser le système d'équations non linéaire. \n",
    "\n",
    "Maintenir l'équilibre financier ne signifie par pour autant que toute marge de manoeuvre est inexistante. \n",
    "Nous considérons plusieurs pilotages à l'équilibre financier :\n",
    "* pilotage 1 : imposer l'âge de départ à la retraite et le niveau de vie, \n",
    "* pilotage 2 : imposer le taux de cotisations et le niveau pensions par rapport aux salaires,\n",
    "* pilotage 3 : imposer le niveau de vie par rapport à l'ensemble de la population et le taux de cotisations,\n",
    "* pilotage 4 : imposer le taux de cotisations et l'âge de départ à la retraite.\n",
    "\n",
    "Plus précisément, nous donnons les formules qui permettent de calculer $T_s$, $P_s$ et $A_s$ lorsqu'on modifie d'autres paramètres."
   ]
  },
  {
   "cell_type": "markdown",
   "metadata": {},
   "source": [
    "### Pilotage 1 : calcul  à âge et niveau de vie défini\n",
    "\n",
    "Cette stratégie de pilotage impose :\n",
    "* l'équilibre financier, \n",
    "* le maintien du niveau de vie par rapport à l'ensemble de la population, \n",
    "* le départ à un âge donné.\n",
    "\n",
    "Le niveau des pensions par rapport aux salaires et le taux de cotisations résulte de ce calcul. \n",
    "\n",
    "Mathématiquement, c'est le pilotage fondé sur le calcul de $T_s$ et $P_s$ à partir de $S_s$, $R_{NVs}$ et $A_s$. \n",
    "\n",
    "Ce calcul est utile lorsqu'on envisage une réforme à prestation définie, c'est-à-dire lorsqu'on choisit l'âge de départ à la retraite $A_s$, une situation financière équilibrée $S_s=0$, et un maintien du niveau de vie $R_{NVs}=1$.\n",
    "\n",
    "En inversant les formules plus haut, on obtient le niveau des pensions et le taux de cotisation nécessaires:\n",
    "  \n",
    "\\begin{align}\n",
    "P_s &= \\frac{U-S_s/B-KdP}{Z+K}, \\\\\n",
    "T_s & = U-P_sZ,\n",
    "\\end{align}\n",
    "  \n",
    "où\n",
    "  \n",
    "\\begin{align}\n",
    "g & = G (A_s-A), \\\\\n",
    "K & = \\frac{N_R-g}{N_C + 0.5g}, \\\\\n",
    "Z & = \\frac{ (1-T_{PR}) C_{NV} }{R_{NVs}}, \\\\\n",
    "U & = 1 - (T_{PS} - T).\n",
    "\\end{align}\n"
   ]
  },
  {
   "cell_type": "markdown",
   "metadata": {},
   "source": [
    "### Pilotage 2 : calcul à cotisations et pensions définies\n",
    "\n",
    "Cette stratégie de pilotage impose :\n",
    "* l'équilibre financier, \n",
    "* le maintien du niveau des pensions par rapport aux salaires,\n",
    "* le taux de cotisations.\n",
    "\n",
    "L'âge de départ à la retraite résulte de ce calcul. \n",
    "\n",
    "Mathématiquement, c'est le pilotage fondé sur le calcul de $A_s$ à partir de $T_s$, $P_s$ et $S_s$. \n",
    "\n",
    "Ce calcul est utile lorsqu'on envisage une réforme où on contrôle les cotisations $T_s$ (par exemple en gardant le niveau de dépenses prévues par le COR) et le niveau des pensions $P_s$ (par exemple en considérant le maintien du niveau courant), tout en s'assurant que le système est équilibré financièrement ($S_s=0$).\n",
    "\n",
    "On déduit alors l'âge de départ à la retraite ainsi:\n",
    "\n",
    "$$\n",
    "A_s = A + \\frac{N_R - K N_C}{(0.5K+1)G}\n",
    "$$\n",
    "\n",
    "où\n",
    "  \n",
    "$$\n",
    "K = \\frac{T_s-S_s/B}{P_s+dP}.\n",
    "$$\n",
    "  "
   ]
  },
  {
   "cell_type": "markdown",
   "metadata": {},
   "source": [
    "### Pilotage 3 : calcul à cotisations et niveau de vie défini\n",
    "\n",
    "Cette stratégie de pilotage impose :\n",
    "* l'équilibre financier, \n",
    "* le maintien du niveau de vie des retraités par rapport à l'ensemble de la population,\n",
    "* le taux de cotisations. \n",
    "\n",
    "Mathématiquement, c'est le pilotage fondé sur le calcul de $P_s$ et A_s à partir de $R_{NVs}$, $T_s$ et $S_s$. \n",
    "\n",
    "Le niveau des pensions par rapport aux salaires résulte de ce calcul. \n",
    "\n",
    "Par défaut, le calcul utilise le taux de cotisations du COR. Sinon, on peut de manière optionnelle imposer le taux de cotisations $T_s$. \n",
    "\n",
    "Ce calcul est utile lorsqu'on veut contrôler les cotisations $T_s$ et le niveau de vie $R_{NVs}$.\n",
    "\n",
    "Dans ce cas, on a:\n",
    "  \n",
    "\\begin{align}\n",
    "P_s &= \\frac{R_{NVs}[1-(T_{PS}+T_s-T)]}{C_{NV}(1-T_R)}, \\\\\n",
    "A_s &= A + \\frac{N_R - K N_C}{(0.5K+1)G}\n",
    "\\end{align}\n",
    "\n",
    "où\n",
    "\n",
    "$$\n",
    "K = \\frac{T_s-S_s/B}{P_s+dP}.\n",
    "$$\n"
   ]
  },
  {
   "cell_type": "markdown",
   "metadata": {},
   "source": [
    "### Pilotage 4 : calcul à cotisations et âge définis\n",
    "\n",
    "Cette stratégie de pilotage impose :\n",
    "* l'équilibre financier, \n",
    "* un âge de départ à la retraite donné,\n",
    "* un taux de cotisations donné.\n",
    "\n",
    "Le niveau des pensions par rapport aux salaires résulte de ce calcul. \n",
    "\n",
    "Mathématiquement, c'est le pilotage fondé sur le calcul de $P_s$ à partir de $T_s$, $A_s$ et $S_s$. \n",
    "\n",
    "Ce calcul est utile lorsqu'on veut contrôler les cotisations $T_s$ et l'âge de départ $A_s$, tout en s'assurant que le système est équilibré financièrement ($S_s=0$).\n",
    "\n",
    "On en déduit le niveau des pensions :\n",
    "\n",
    "$$\n",
    "P_s = \\frac{T-S_s/B}{K}-dP\n",
    "$$\n",
    "\n",
    "où\n",
    "  \n",
    "\\begin{align}\n",
    "g & = G (A_s-A), \\\\\n",
    "K & = \\frac{N_R-g}{N_C + 0.5g},\n",
    "\\end{align}\n"
   ]
  },
  {
   "cell_type": "markdown",
   "metadata": {},
   "source": [
    "### Pilotage 5 : calcul à âge et dépenses définies\n",
    "\n",
    "Cette stratégie de pilotage impose :\n",
    "* l'équilibre financier, \n",
    "* un âge de départ à la retraite,\n",
    "* un niveau de dépenses.\n",
    "\n",
    "TODO : finir ce calcul.\n"
   ]
  },
  {
   "cell_type": "markdown",
   "metadata": {},
   "source": [
    "## Références\n",
    "\n",
    "* Conseil d'orientation des retraites. DOCUMENTATION TECHNIQUE. Juillet 2016. Simulez l’impact de réformes sur le système de retraite et la situation des retraités actuels et futurs. "
   ]
  }
 ],
 "metadata": {
  "kernelspec": {
   "display_name": "Python 3",
   "language": "python",
   "name": "python3"
  },
  "language_info": {
   "codemirror_mode": {
    "name": "ipython",
    "version": 3
   },
   "file_extension": ".py",
   "mimetype": "text/x-python",
   "name": "python",
   "nbconvert_exporter": "python",
   "pygments_lexer": "ipython3",
   "version": "3.7.4"
  }
 },
 "nbformat": 4,
 "nbformat_minor": 2
}
